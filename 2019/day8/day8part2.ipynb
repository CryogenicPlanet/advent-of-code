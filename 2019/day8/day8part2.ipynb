{
 "cells": [
  {
   "cell_type": "code",
   "execution_count": 1,
   "metadata": {},
   "outputs": [],
   "source": [
    "import numpy as np\n",
    "import matplotlib.pyplot as plt\n",
    "%matplotlib inline"
   ]
  },
  {
   "cell_type": "code",
   "execution_count": 2,
   "metadata": {},
   "outputs": [
    {
     "name": "stdout",
     "output_type": "stream",
     "text": [
      "100\n"
     ]
    }
   ],
   "source": [
    "inputFile = open(\"input.txt\", \"r\")\n",
    "\n",
    "line = \"\"\n",
    "for x in inputFile:\n",
    "    line = x\n",
    "width = 25\n",
    "height = 6\n",
    "\n",
    "# line = \"0222112222120000\"\n",
    "# width = 2\n",
    "# height = 2\n",
    "\n",
    "\n",
    "\n",
    "line = line.strip()\n",
    "\n",
    "imageMatrix = np.full((height,width),-1)\n",
    "# print(imageMatrix)\n",
    "\n",
    "layers = []\n",
    "\n",
    "length = len(line)\n",
    "# print(length)\n",
    "curPos = 0\n",
    "while curPos < length:\n",
    "    newImageMatrix = np.copy(imageMatrix)\n",
    "    for i in range(height):\n",
    "        for j in range(width):\n",
    "            newImageMatrix[i][j] = int(line[curPos])\n",
    "            curPos += 1\n",
    "    layers.append(newImageMatrix)\n",
    "\n",
    "layers = np.array(layers)\n",
    "print(len(layers))\n",
    "# uniqueValues = []\n",
    "products = []\n",
    "noOfZeroValues = []\n",
    "curLayerPos = 0\n",
    "validCords =  np.where(imageMatrix == -1)\n",
    "while curLayerPos < len(layers): \n",
    "    # print('Iteration', curLayerPos)\n",
    "    \n",
    "    # print(validCords)\n",
    "    currentLayer = layers[curLayerPos]\n",
    "    curValidCord = 0\n",
    "    while curValidCord < len(validCords[0]):\n",
    "        yCord = validCords[0][curValidCord]\n",
    "        xCord = validCords[1][curValidCord]\n",
    "        imageMatrix[yCord][xCord] = currentLayer[yCord][xCord]\n",
    "        curValidCord += 1          \n",
    "    curLayerPos += 1\n",
    "    # print(imageMatrix)\n",
    "    validCords = np.where(imageMatrix == 2)"
   ]
  },
  {
   "cell_type": "code",
   "execution_count": 3,
   "metadata": {},
   "outputs": [
    {
     "name": "stdout",
     "output_type": "stream",
     "text": [
      "0110001100100101110011110\n",
      "1001010010101001001000010\n",
      "1001010000110001001000100\n",
      "1111010000101001110001000\n",
      "1001010010101001000010000\n",
      "1001001100100101000011110\n"
     ]
    }
   ],
   "source": [
    "for row in imageMatrix:\n",
    "    print(''.join(map(str, row)))"
   ]
  },
  {
   "cell_type": "code",
   "execution_count": 5,
   "metadata": {},
   "outputs": [
    {
     "data": {
      "text/plain": [
       "<matplotlib.image.AxesImage at 0x7f7ef266d430>"
      ]
     },
     "execution_count": 5,
     "metadata": {},
     "output_type": "execute_result"
    },
    {
     "data": {
      "image/png": "[encoded data removed]",
      "text/plain": [
       "<Figure size 432x288 with 1 Axes>"
      ]
     },
     "metadata": {
      "needs_background": "light"
     },
     "output_type": "display_data"
    }
   ],
   "source": [
    "plt.imshow(imageMatrix)"
   ]
  },
  {
   "cell_type": "code",
   "execution_count": null,
   "metadata": {},
   "outputs": [],
   "source": []
  }
 ],
 "metadata": {
  "kernelspec": {
   "display_name": "Python 3",
   "language": "python",
   "name": "python3"
  },
  "language_info": {
   "codemirror_mode": {
    "name": "ipython",
    "version": 3
   },
   "file_extension": ".py",
   "mimetype": "text/x-python",
   "name": "python",
   "nbconvert_exporter": "python",
   "pygments_lexer": "ipython3",
   "version": "3.8.3"
  }
 },
 "nbformat": 4,
 "nbformat_minor": 4
}
